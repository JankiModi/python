{
 "cells": [
  {
   "cell_type": "code",
   "execution_count": 10,
   "metadata": {},
   "outputs": [
    {
     "name": "stdout",
     "output_type": "stream",
     "text": [
      "['y', 'u', 't', 's', 's', 'm']\n"
     ]
    }
   ],
   "source": [
    "s=\"systum\"\n",
    "print(sorted(s,reverse=True))"
   ]
  },
  {
   "cell_type": "code",
   "execution_count": 21,
   "metadata": {},
   "outputs": [
    {
     "name": "stdout",
     "output_type": "stream",
     "text": [
      "True\n"
     ]
    }
   ],
   "source": [
    "print(\"A\".isupper())"
   ]
  },
  {
   "cell_type": "code",
   "execution_count": null,
   "metadata": {},
   "outputs": [],
   "source": [
    "correct = false\n",
    "pass1 = input(\"Enter Password : \")\n",
    "for i in pass1 :\n",
    "    if(i.isupper()) :\n",
    "        correct = true\n",
    "    else : \n",
    "        correct = false"
   ]
  },
  {
   "cell_type": "code",
   "execution_count": 22,
   "metadata": {},
   "outputs": [
    {
     "name": "stdout",
     "output_type": "stream",
     "text": [
      "    This is python\n",
      "This is python\n",
      "This n is n pythno\n"
     ]
    }
   ],
   "source": [
    "s=\"    This is python\"\n",
    "print(s)\n",
    "print(s.strip())\n",
    "str=\"nThis n is n pythnonnnn\"\n",
    "print(str.strip(\"n\"))"
   ]
  },
  {
   "cell_type": "code",
   "execution_count": 25,
   "metadata": {},
   "outputs": [
    {
     "name": "stdout",
     "output_type": "stream",
     "text": [
      "This is 1 python progr1m 2 1 2 3 4 2314\n",
      "This is a python program b a b c d bcad\n",
      "{97: 49, 98: 50, 99: 51, 100: 52}\n"
     ]
    }
   ],
   "source": [
    "s=\"This is a python program b a b c d bcad\"\n",
    "new = s.maketrans('abcd','1234')\n",
    "print(s.translate(new))\n",
    "print(s)\n",
    "print(new)"
   ]
  },
  {
   "cell_type": "code",
   "execution_count": 27,
   "metadata": {},
   "outputs": [
    {
     "name": "stdout",
     "output_type": "stream",
     "text": [
      "Enter Key : 5\n",
      "Enter string : This\n",
      "Ymnx\n"
     ]
    }
   ],
   "source": [
    "key = int(input(\"Enter Key : \"))\n",
    "str = input(\"Enter string : \")\n",
    "str2 = \"\"\n",
    "for i in str :\n",
    "    str2 += chr(ord(i)+key)\n",
    "print(str2)"
   ]
  },
  {
   "cell_type": "code",
   "execution_count": 42,
   "metadata": {},
   "outputs": [
    {
     "name": "stdout",
     "output_type": "stream",
     "text": [
      "[1, 2, 'Hello', (1, 2), [4, 5], 60]\n",
      "[[1, 2], 2, 'Hello', (1, 2), [4, 5], 60]\n"
     ]
    },
    {
     "ename": "TypeError",
     "evalue": "append() takes exactly one argument (2 given)",
     "output_type": "error",
     "traceback": [
      "\u001b[1;31m---------------------------------------------------------------------------\u001b[0m",
      "\u001b[1;31mTypeError\u001b[0m                                 Traceback (most recent call last)",
      "\u001b[1;32m<ipython-input-42-d48fa34f138c>\u001b[0m in \u001b[0;36m<module>\u001b[1;34m\u001b[0m\n\u001b[0;32m     10\u001b[0m \u001b[0mprint\u001b[0m\u001b[1;33m(\u001b[0m\u001b[0ml\u001b[0m\u001b[1;33m)\u001b[0m\u001b[1;33m\u001b[0m\u001b[1;33m\u001b[0m\u001b[0m\n\u001b[0;32m     11\u001b[0m \u001b[0ml\u001b[0m\u001b[1;33m.\u001b[0m\u001b[0mappend\u001b[0m\u001b[1;33m(\u001b[0m\u001b[1;36m20\u001b[0m\u001b[1;33m)\u001b[0m\u001b[1;33m\u001b[0m\u001b[1;33m\u001b[0m\u001b[0m\n\u001b[1;32m---> 12\u001b[1;33m \u001b[0ml\u001b[0m\u001b[1;33m.\u001b[0m\u001b[0mappend\u001b[0m\u001b[1;33m(\u001b[0m\u001b[1;33m(\u001b[0m\u001b[1;36m30\u001b[0m\u001b[1;33m,\u001b[0m\u001b[1;36m40\u001b[0m\u001b[1;33m)\u001b[0m\u001b[1;33m,\u001b[0m\u001b[1;36m20\u001b[0m\u001b[1;33m)\u001b[0m\u001b[1;33m\u001b[0m\u001b[1;33m\u001b[0m\u001b[0m\n\u001b[0m\u001b[0;32m     13\u001b[0m \u001b[0mprint\u001b[0m\u001b[1;33m(\u001b[0m\u001b[0ml\u001b[0m\u001b[1;33m)\u001b[0m\u001b[1;33m\u001b[0m\u001b[1;33m\u001b[0m\u001b[0m\n",
      "\u001b[1;31mTypeError\u001b[0m: append() takes exactly one argument (2 given)"
     ]
    }
   ],
   "source": [
    "# l=[1,2,3]\n",
    "# l1=[3,2,1]\n",
    "# l2=list(l+l1)\n",
    "# print(l2)\n",
    "# l=list({'brand':'ford','car':'mustang'})\n",
    "# print(l)\n",
    "l = [1,2,'Hello',(1,2),[4,5],60]\n",
    "print(l)\n",
    "l[0]=[1,2]\n",
    "print(l)\n",
    "l.append(20)\n",
    "l.append((30,40))\n",
    "print(l) "
   ]
  },
  {
   "cell_type": "code",
   "execution_count": 64,
   "metadata": {},
   "outputs": [
    {
     "name": "stdout",
     "output_type": "stream",
     "text": [
      "[5, 2, 3]\n"
     ]
    }
   ],
   "source": [
    "# l=[[[1,2],[3,4]],[[5,6],[7,8]]]\n",
    "# print(l)\n",
    "# l.append([[9,10],[11,12]])\n",
    "# print(l)\n",
    "# l=[1,2,3,4,5]\n",
    "# l.append(\"abcd\")\n",
    "# print(l)\n",
    "# l.extend(range(10))\n",
    "# print(l)\n",
    "# l=[1,2,3,4]\n",
    "# l.insert(2,[1,2,3])\n",
    "# print(l)\n",
    "# l=[4,2,[1,2],1,3]\n",
    "# l.reverse()\n",
    "# print(l)\n",
    "l1=[1,2,3]\n",
    "l2=l1\n",
    "l2[0]=5\n",
    "print(l1)"
   ]
  },
  {
   "cell_type": "code",
   "execution_count": 69,
   "metadata": {},
   "outputs": [
    {
     "name": "stdout",
     "output_type": "stream",
     "text": [
      "[5, 10, 15, 20, 25, 30, 35, 40, 45, 50]\n"
     ]
    }
   ],
   "source": [
    "l=[i for i in range(1,51) if i%5==0]\n",
    "print(l)\n",
    "l1=['php','java',py]"
   ]
  },
  {
   "cell_type": "code",
   "execution_count": 6,
   "metadata": {},
   "outputs": [
    {
     "name": "stdout",
     "output_type": "stream",
     "text": [
      "Enter key : 3\n",
      "Enter string to be encrypted : This is python\n",
      "Tssyoh  tniiph\n",
      "['T', 's', 's', 'y', 'o', 'h', ' ', ' ', 't', 'n', 'i', 'i', 'p', 'h']\n",
      "['T', 's', 's', 'y', 'o', 'h', ' ', ' ', 't', 'n', 'i', 'i', 'p', 'h']\n",
      "This is python\n"
     ]
    }
   ],
   "source": [
    "key = int(input(\"Enter key : \"))\n",
    "sent = input(\"Enter string to be encrypted : \")\n",
    "encrypt = ''\n",
    "decrypt =''\n",
    "l=[]\n",
    "l2=[]\n",
    "for k in range(0,key) :\n",
    "    for i in range(k,len(sent),key) :\n",
    "        encrypt+=sent[i]\n",
    "        l.append(sent[i])\n",
    "print(encrypt)\n",
    "j=0\n",
    "print(l2)\n",
    "for k in range(0,key) :\n",
    "    for i in range(k,len(sent),key) :\n",
    "        l2[i]=l[j]\n",
    "        j+=1\n",
    "for i in l2 :\n",
    "    decrypt+=i\n",
    "print(decrypt)"
   ]
  },
  {
   "cell_type": "markdown",
   "metadata": {},
   "source": [
    "n=int(input(\"Enter dimension : \"))\n",
    "l=[]\n",
    "mat=[]\n",
    "for i in range(n) :\n",
    "    l=[]\n",
    "    for j in range(n) :\n",
    "        l[j]=int(input(\"Enter number : \"))\n",
    "    mat[i].append(l)\n",
    "for i in range(n) :\n",
    "    for j in range(n) :\n",
    "        print(mat[i])"
   ]
  },
  {
   "cell_type": "code",
   "execution_count": 24,
   "metadata": {},
   "outputs": [
    {
     "name": "stdout",
     "output_type": "stream",
     "text": [
      "Enter dimension : 3\n",
      "Enter number : 1\n",
      "[1]\n",
      "Enter number : 2\n",
      "[1, 2]\n",
      "Enter number : 3\n",
      "[1, 2, 3]\n",
      "Enter number : 4\n",
      "[4]\n",
      "Enter number : 5\n",
      "[4, 5]\n",
      "Enter number : 6\n",
      "[4, 5, 6]\n",
      "Enter number : 7\n",
      "[7]\n",
      "Enter number : 8\n",
      "[7, 8]\n",
      "Enter number : 9\n",
      "[7, 8, 9]\n",
      "[1, 2, 3]\n",
      "[4, 5, 6]\n",
      "[7, 8, 9]\n",
      "[[1, 4, 7], [2, 5, 8], [3, 6, 9]]\n"
     ]
    }
   ],
   "source": [
    "n=int(input(\"Enter dimension : \")) \n",
    "l=[] \n",
    "mat=[] \n",
    "for i in range(n) : \n",
    "    l=[] \n",
    "    for j in range(n) : \n",
    "        l.insert(j,int(input(\"Enter number : \"))) \n",
    "        print(l)\n",
    "    mat.insert(i,l) \n",
    "for i in range(n) : \n",
    "    print(mat[i])\n",
    "mata=[[0,0,0],[0,0,0],[0,0,0]]\n",
    "for i in range(n) :\n",
    "    for j in range(n) :\n",
    "        mata[i][j]=mat[j][i]\n",
    "print(mata)"
   ]
  },
  {
   "cell_type": "code",
   "execution_count": 28,
   "metadata": {},
   "outputs": [
    {
     "name": "stdout",
     "output_type": "stream",
     "text": [
      "Enter number : 123\n",
      "3\n",
      "321\n"
     ]
    }
   ],
   "source": [
    "num = int(input(\"Enter number : \"))\n",
    "dict1 = {1:'One hundred',2:'Two hundred',3:'Three hundred',4:'Four hundred',5:'Five hundred',6:'Six hundred',7:'Seven hundred',8:'Eight hundred',9:'Nine hundred'}\n",
    "dict2 = {1:{0:'Ten',1:'Eleven',2:'Twelve',3:'Thirteen',4:'Fourteen',5:'Fifteen',6:'Sixteen',7:'Seventeen',8:'Eighteen',9:'Nineteen'},2:'Twenty',3:'Thirty',4:'Fourty',5:'Fifty',6:'Sixty',7:'Seventy',8:'Eighty',9:'Ninty'}\n",
    "dict3 = {1:'One',2:'Two',3:'Three',4:'Four',5:'Five',6:'Six',7:'Seven',8:'Eight',9:'Nine'}\n",
    "count=0\n",
    "strans=''\n",
    "numc = num\n",
    "while numc!=0 :\n",
    "    count+=1\n",
    "    numc//=10\n",
    "print(count)\n",
    "reverse=0\n",
    "while num != 0:\n",
    "    digit = num % 10\n",
    "    reverse = reverse * 10 + digit\n",
    "    num //= 10\n",
    "if count==3 :\n",
    "    dig = reverse%10\n",
    "    for i in range(1,10) :\n",
    "        if dig==i :\n",
    "            strans+=dict1[i]\n",
    "    reverse //= 10\n",
    "    dig2 = reverse%10\n",
    "    reverse //= 10\n",
    "    dig3 = reverse%10\n",
    "    if dig2==1 : \n",
    "        for i in range(0,10) :\n",
    "            if dig==i :\n",
    "                strans+=dict1[i]"
   ]
  },
  {
   "cell_type": "code",
   "execution_count": 5,
   "metadata": {},
   "outputs": [
    {
     "name": "stdout",
     "output_type": "stream",
     "text": [
      "Enter String : my name is manav is my name manav ?\n",
      "{'my': 2, 'name': 2, 'is': 2, 'manav': 2, '?': 1}\n"
     ]
    }
   ],
   "source": [
    "#wap to calculate the frequency of particular words used in a string\n",
    "sent = input(\"Enter String : \")\n",
    "l = sent.split()\n",
    "dic = {}\n",
    "for i in l : \n",
    "    count=0\n",
    "    for j in l : \n",
    "        if i==j : \n",
    "            count+=1\n",
    "    dic.update({i:count})\n",
    "print(dic)"
   ]
  },
  {
   "cell_type": "code",
   "execution_count": 11,
   "metadata": {},
   "outputs": [
    {
     "name": "stdout",
     "output_type": "stream",
     "text": [
      "Enter string : Lorem, ipsum dolor sit amet consectetur adipisicing elit. Dolore nostrum dignissimos accusamus, soluta esse saepe enim aperiam alias debitis sunt maxime odio vitae voluptatibus quaerat cupiditate qui aspernatur sed tempora?\n",
      "['voluptatibus', 'consectetur', 'adipisicing', 'dignissimos', 'accusamus,', 'cupiditate', 'aspernatur', 'tempora?', 'nostrum', 'aperiam', 'debitis', 'quaerat', 'Lorem,', 'Dolore', 'soluta', 'maxime', 'ipsum', 'dolor', 'elit.', 'saepe', 'alias', 'vitae', 'amet', 'esse', 'enim', 'sunt', 'odio', 'sit', 'qui', 'sed', '']\n"
     ]
    }
   ],
   "source": [
    "sent = input(\"Enter string : \")\n",
    "l = sent.split()\n",
    "lsort = [\"\"]\n",
    "for i in range(len(l)) :\n",
    "    for j in range(len(lsort)) :\n",
    "        if len(l[i])>len(lsort[j]) :\n",
    "            break\n",
    "    lsort.insert(j,l[i])\n",
    "print(lsort)"
   ]
  },
  {
   "cell_type": "code",
   "execution_count": 29,
   "metadata": {},
   "outputs": [
    {
     "name": "stdout",
     "output_type": "stream",
     "text": [
      "{1, 2, 3, 4}\n",
      "{1, 2, 3, 4, (1, 2, 3, 4), 'Hello'}\n",
      "{1, 2, 3, 4, (1, 2, 3, 4)}\n",
      "set()\n"
     ]
    }
   ],
   "source": [
    "# s = set()\n",
    "# s = {1,2,3,4,5}\n",
    "# print(s)\n",
    "# s1={1,2,3,(1,4),'Hello',5}\n",
    "# print(s1)\n",
    "# s2 = {1,1,1,1,1}\n",
    "# print(s2)\n",
    "s = {1,2,3,4}\n",
    "print(s)\n",
    "s.add((1,2,3,4))\n",
    "s.update(['Hello'])\n",
    "print(s)\n",
    "s.discard('Hello')\n",
    "print(s)\n",
    "s.clear()\n",
    "print(s)"
   ]
  },
  {
   "cell_type": "code",
   "execution_count": 40,
   "metadata": {},
   "outputs": [
    {
     "name": "stdout",
     "output_type": "stream",
     "text": [
      "{(1, 2, 3, 4), (1, 3, 5, 7), (2, 3, 4, 5)}\n",
      "{(1, 2, 3, 4)}\n",
      "{(2, 3, 4, 5)}\n",
      "{(1, 2, 3, 4), (1, 3, 5, 7)}\n",
      "{(1, 2, 3, 4)}\n",
      "{(1, 2, 3, 4), (2, 3, 4, 5)}\n",
      "{(1, 2, 3, 4), (2, 3, 4, 5)}\n",
      "{(2, 3, 4, 5)}\n"
     ]
    }
   ],
   "source": [
    "s1 = {(1,2,3,4),(2,3,4,5)}\n",
    "s2 = {(2,3,4,5),((1,3,5,7))}\n",
    "print(s1|s2)\n",
    "print(s1 - s2)\n",
    "print(s1 & s2)\n",
    "print(s1 ^ s2)\n",
    "print(s1.difference(s2))\n",
    "print(s1)\n",
    "# print(s1.difference_update(s2))\n",
    "print(s1)\n",
    "s1.intersection_update(s2)\n",
    "print(s1)"
   ]
  },
  {
   "cell_type": "code",
   "execution_count": 26,
   "metadata": {},
   "outputs": [
    {
     "name": "stdout",
     "output_type": "stream",
     "text": [
      "Enter no. of studs. : 11\n",
      "Enter rating : 2\n",
      "Enter rating : 4\n",
      "Enter rating : 1\n",
      "Enter rating : 6\n",
      "Enter rating : 1\n",
      "Enter rating : 7\n",
      "Enter rating : 8\n",
      "Enter rating : 9\n",
      "Enter rating : 3\n",
      "Enter rating : 2\n",
      "Enter rating : 1\n",
      "[2, 4, 1, 6, 1, 7, 8, 9, 3, 2, 1]\n",
      "Hi\n",
      "Hi\n",
      "Hi\n",
      "Hi\n",
      "Hi\n",
      "Uppr break\n",
      "hello\n",
      "hello\n",
      "hello\n",
      "hello\n",
      "hello\n",
      "lower break\n",
      "21\n"
     ]
    }
   ],
   "source": [
    "#THERE ARE N NUMBER OF CHILDREN STANDING IN A LINE, EACH CHILD IS ASSIGNED A RATING VALUE GIVEN IN THE INTEGER LIST OF RATINGS, YOU ARE GIVING CANDIES TO THIS CHILDREN SUBJECTED TO THE FOLLOWING \n",
    "l=[]\n",
    "n = int(input(\"Enter no. of studs. : \"))\n",
    "for i in range(n) :\n",
    "    l.append(int(input(\"Enter rating : \")))\n",
    "candy = n\n",
    "print(l)\n",
    "j = 1\n",
    "for i in range(len(l)) :\n",
    "    if j==(len(l)) :\n",
    "        print(\"Uppr break\")\n",
    "        break\n",
    "    if l[i] > l[j] :  \n",
    "        print(\"Hi\")\n",
    "        candy += 1\n",
    "    j+=1\n",
    "k = len(l)-2\n",
    "for i in range(len(l)-1,-1,-1) :\n",
    "    if k==(-1) :\n",
    "        print(\"lower break\")\n",
    "        break\n",
    "    if l[k] < l[i] :\n",
    "        print(\"hello\")\n",
    "        candy += 1\n",
    "    k-=1\n",
    "print(candy)"
   ]
  }
 ],
 "metadata": {
  "kernelspec": {
   "display_name": "Python 3",
   "language": "python",
   "name": "python3"
  },
  "language_info": {
   "codemirror_mode": {
    "name": "ipython",
    "version": 3
   },
   "file_extension": ".py",
   "mimetype": "text/x-python",
   "name": "python",
   "nbconvert_exporter": "python",
   "pygments_lexer": "ipython3",
   "version": "3.8.5"
  }
 },
 "nbformat": 4,
 "nbformat_minor": 4
}
