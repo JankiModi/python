{
 "cells": [
  {
   "cell_type": "code",
   "execution_count": 1,
   "metadata": {},
   "outputs": [
    {
     "data": {
      "text/plain": [
       "dict"
      ]
     },
     "execution_count": 1,
     "metadata": {},
     "output_type": "execute_result"
    }
   ],
   "source": [
    "d={}\n",
    "type(d)"
   ]
  },
  {
   "cell_type": "code",
   "execution_count": 2,
   "metadata": {},
   "outputs": [
    {
     "data": {
      "text/plain": [
       "set"
      ]
     },
     "execution_count": 2,
     "metadata": {},
     "output_type": "execute_result"
    }
   ],
   "source": [
    "d={6}\n",
    "type(d)"
   ]
  },
  {
   "cell_type": "code",
   "execution_count": 5,
   "metadata": {},
   "outputs": [
    {
     "name": "stdout",
     "output_type": "stream",
     "text": [
      "20\n"
     ]
    }
   ],
   "source": [
    "d={'d':1,'e':2,'f':3}\n",
    "d['f']=20\n",
    "print(d['f'])"
   ]
  },
  {
   "cell_type": "code",
   "execution_count": 7,
   "metadata": {},
   "outputs": [
    {
     "data": {
      "text/plain": [
       "['a', 'i', 'o', 'u']"
      ]
     },
     "execution_count": 7,
     "metadata": {},
     "output_type": "execute_result"
    }
   ],
   "source": [
    "d={'a':1,'u':2,'i':4,'o':3}\n",
    "sorted(d)"
   ]
  },
  {
   "cell_type": "code",
   "execution_count": 25,
   "metadata": {},
   "outputs": [
    {
     "name": "stdout",
     "output_type": "stream",
     "text": [
      "{'a': 1, 'u': 2, 'i': 4, 'o': 3, 'z': 50, 'b': 3}\n",
      "{1: 50, 2: 50, 3: 50}\n",
      "3\n",
      "50\n",
      "50\n",
      "dict_keys(['a', 'u', 'i', 'o', 'z', 'b'])\n",
      "dict_values([1, 2, 4, 3, 50, 3])\n",
      "dict_items([('a', 1), ('u', 2), ('i', 4), ('o', 3), ('z', 50), ('b', 3)])\n",
      "{'a': 1, 'u': 2, 'i': 4, 'o': 3, 'z': 50, 'b': 3}\n",
      "True\n",
      "False\n",
      "a 1\n",
      "u 2\n",
      "i 4\n",
      "o 3\n",
      "z 50\n",
      "b 3\n"
     ]
    }
   ],
   "source": [
    "# sorted(d)\n",
    "# clear()\n",
    "# copy()\n",
    "# fromkeys(seq[,val])\n",
    "# get(key[def])\n",
    "# keys()\n",
    "# values()\n",
    "# items()\n",
    "d1=d.copy()\n",
    "print(d1)\n",
    "\n",
    "e={}\n",
    "seq=[1,2,3]\n",
    "e1=e.fromkeys(seq,50)\n",
    "print(e1)\n",
    "\n",
    "print(d.get('o'))\n",
    "print(d.get('z'))\n",
    "print(d.get('z','hie'))\n",
    "\n",
    "print(d.keys())\n",
    "print(d.values())\n",
    "print(d.items())\n",
    "\n",
    "m1 = {'z':50,'b':3}\n",
    "d.update(m1)\n",
    "print(d)\n",
    "\n",
    "print('a' in d)\n",
    "print(4 in d) #can only put key values\n",
    "\n",
    "for key,value in d.items():\n",
    "    print(key,value)"
   ]
  },
  {
   "cell_type": "code",
   "execution_count": 28,
   "metadata": {},
   "outputs": [
    {
     "name": "stdout",
     "output_type": "stream",
     "text": [
      "{0: 0, 1: 1, 2: 4, 3: 9, 4: 16, 5: 25}\n"
     ]
    }
   ],
   "source": [
    "squares={x:x*x for x in range(6)}\n",
    "print(squares)\n",
    "\n",
    "#{<keyexp>:<value exp> for <it> in <iterable> if <condition>}"
   ]
  },
  {
   "cell_type": "code",
   "execution_count": null,
   "metadata": {},
   "outputs": [],
   "source": []
  }
 ],
 "metadata": {
  "kernelspec": {
   "display_name": "Python 3",
   "language": "python",
   "name": "python3"
  },
  "language_info": {
   "codemirror_mode": {
    "name": "ipython",
    "version": 3
   },
   "file_extension": ".py",
   "mimetype": "text/x-python",
   "name": "python",
   "nbconvert_exporter": "python",
   "pygments_lexer": "ipython3",
   "version": "3.10.8"
  }
 },
 "nbformat": 4,
 "nbformat_minor": 2
}
