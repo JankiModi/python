{
 "cells": [
  {
   "cell_type": "markdown",
   "metadata": {},
   "source": [
    "List of an integer of two numbers such that they add upto a specific target.\n",
    "You may assume that every input would have one solution and you may not use same element twice"
   ]
  },
  {
   "cell_type": "code",
   "execution_count": 8,
   "metadata": {},
   "outputs": [
    {
     "name": "stdout",
     "output_type": "stream",
     "text": [
      "[2, 11, 11, 15]\n",
      "11  +  11  =  22\n",
      "Sum will be calculated by index [1, 2]\n"
     ]
    }
   ],
   "source": [
    "num = int(input(\"Enter total numbers\"))\n",
    "L = []\n",
    "for i in range(0,num):\n",
    "    L1 = int(input(\"Enter a number\"))\n",
    "    L.append(L1)\n",
    "print(L)\n",
    "flag = 0\n",
    "sum = int(input(\"Enter the sum you want to get\"))\n",
    "for i in range(0,len(L)):\n",
    "    for j in range(i+1,len(L)):\n",
    "        if L[i]+L[j] == sum:\n",
    "            num1 = L[i]\n",
    "            num2 = L[j]\n",
    "            flag = 1\n",
    "            print(num1,\" + \",num2,\" = \",sum)\n",
    "            print(f'Sum will be calculated by index [{i}, {j}]')\n",
    "        else:\n",
    "           continue \n",
    "if flag==0:\n",
    "    print(\"Sum cant be calculated for \",sum,\" so -1\")"
   ]
  },
  {
   "cell_type": "markdown",
   "metadata": {},
   "source": [
    " Input : [-7 ,-3, 11, 2, 3]\n"
   ]
  },
  {
   "cell_type": "markdown",
   "metadata": {},
   "source": [
    "Output : [4, 9, 9, 49, 121]"
   ]
  },
  {
   "cell_type": "code",
   "execution_count": 13,
   "metadata": {},
   "outputs": [
    {
     "name": "stdout",
     "output_type": "stream",
     "text": [
      "[-7, -3, 11, 2, 3]\n",
      "[49, 9, 121, 4, 9]\n",
      "[4, 9, 9, 49, 121]\n"
     ]
    }
   ],
   "source": [
    "num = int(input(\"Enter total numbers\"))\n",
    "L = []\n",
    "squares = []\n",
    "for i in range(0,num):\n",
    "    L1 = int(input(\"Enter a number\"))\n",
    "    L.append(L1)\n",
    "print(L)\n",
    "for i in range(0,len(L)):\n",
    "    squares.append(L[i]*L[i])\n",
    "print(squares)\n",
    "squares.sort()\n",
    "print(squares)"
   ]
  },
  {
   "cell_type": "markdown",
   "metadata": {},
   "source": [
    "- str1 = \"PRWSOERIUSEK\"\n",
    "- str2 = \"OSU\"\n",
    "- Minimum window = \"OERIUS\""
   ]
  },
  {
   "cell_type": "code",
   "execution_count": 16,
   "metadata": {},
   "outputs": [],
   "source": [
    "def minWindow(s,t):\n",
    "    counter_s = {}\n",
    "    counter_t = {}\n",
    "    for c in t:\n",
    "        counter_t[c] = counter_t.get(c,0)+1\n",
    "    i = 0\n",
    "    j = 0 \n",
    "    left = -1 \n",
    "    right = -1 \n",
    "    valid = 0\n",
    "    for i in range(len(s)):\n",
    "        while j<len(s) and valid<len(counter_t):\n",
    "            counter_s[s[j]] = counter_s.get(s[j],0)+1\n",
    "            if s[j] in counter_t and counter_s[s[j]]==counter_t[s[j]]:\n",
    "                valid+= 1\n",
    "            j+=1\n",
    "            "
   ]
  }
 ],
 "metadata": {
  "kernelspec": {
   "display_name": "Python 3",
   "language": "python",
   "name": "python3"
  },
  "language_info": {
   "codemirror_mode": {
    "name": "ipython",
    "version": 3
   },
   "file_extension": ".py",
   "mimetype": "text/x-python",
   "name": "python",
   "nbconvert_exporter": "python",
   "pygments_lexer": "ipython3",
   "version": "3.10.8"
  }
 },
 "nbformat": 4,
 "nbformat_minor": 2
}
