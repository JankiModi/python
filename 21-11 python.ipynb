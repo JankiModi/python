{
 "cells": [
  {
   "cell_type": "markdown",
   "metadata": {},
   "source": [
    "# Happy number"
   ]
  },
  {
   "cell_type": "code",
   "execution_count": null,
   "metadata": {},
   "outputs": [],
   "source": [
    "num = int(input(\"Enter number to be happi : \"))\n",
    "sum = 0\n",
    "while sum != 1:\n",
    "    if sum==0 :\n",
    "        temp = num\n",
    "    else :\n",
    "        temp = sum\n",
    "    sum = 0\n",
    "    while temp != 0 :\n",
    "        sum = sum + int(int((temp%10))**2)\n",
    "        temp = int(temp/10)\n",
    "    if sum == 4 :\n",
    "        break\n",
    "    print(sum)\n",
    "if sum==1 : \n",
    "    print(\"Happy Number\")\n",
    "else : \n",
    "    print(\"Unhappy Number\")"
   ]
  },
  {
   "cell_type": "markdown",
   "metadata": {},
   "source": [
    "# 1729 - Ramanujan Number"
   ]
  },
  {
   "cell_type": "code",
   "execution_count": null,
   "metadata": {},
   "outputs": [],
   "source": [
    "for i in range(1,21):\n",
    "    for j in range(i,21):\n",
    "        sum = (i**3) + (j**3)\n",
    "        for m in range(i,21):\n",
    "            for n in range(i,21):\n",
    "                num = (m**3) + (n**3)\n",
    "                if sum == num:\n",
    "                    if j!=n and j!=m:\n",
    "                        print(sum,\" is a Ramanujan number\")\n",
    "                        print(\"for numbers \",i,\",\",j,\",\",m,\",\",n)"
   ]
  },
  {
   "cell_type": "markdown",
   "metadata": {},
   "source": [
    "# Pascal's pyramid"
   ]
  },
  {
   "cell_type": "code",
   "execution_count": null,
   "metadata": {},
   "outputs": [],
   "source": [
    "def solve(n):\n",
    "    for i in range(n+1):\n",
    "        for j in range(n-i):\n",
    "            print(' ',end=' ')\n",
    "        c=1\n",
    "        for j in range(1,i+1):\n",
    "            print(c,' ',sep=' ',end=' ')\n",
    "            c = c*(i-j)//j\n",
    "        print()\n",
    "solve(10)"
   ]
  },
  {
   "cell_type": "markdown",
   "metadata": {},
   "source": [
    "# QB 191"
   ]
  },
  {
   "cell_type": "code",
   "execution_count": null,
   "metadata": {},
   "outputs": [],
   "source": [
    "num = int(input(\"Enter a single digit number: \"))\n",
    "for i in range(1,10):\n",
    "    for j in range(1,10):\n",
    "        for m in range(1,10):\n",
    "            for n in range(1,10):\n",
    "                for x in range(1,10):\n",
    "                    for y in range(1,10):\n",
    "                        mul = i*j*m*n*x*y\n",
    "                        if mul==num:\n",
    "                            print(mul,\" is such combination\")\n",
    "                            print(\"for numbers \",i,\",\",j,\",\",m,\",\",n,\",\",x,\",\",y)"
   ]
  },
  {
   "cell_type": "markdown",
   "metadata": {},
   "source": [
    "# qb 235"
   ]
  },
  {
   "cell_type": "code",
   "execution_count": null,
   "metadata": {},
   "outputs": [],
   "source": []
  }
 ],
 "metadata": {
  "kernelspec": {
   "display_name": "Python 3",
   "language": "python",
   "name": "python3"
  },
  "language_info": {
   "codemirror_mode": {
    "name": "ipython",
    "version": 3
   },
   "file_extension": ".py",
   "mimetype": "text/x-python",
   "name": "python",
   "nbconvert_exporter": "python",
   "pygments_lexer": "ipython3",
   "version": "3.10.8"
  }
 },
 "nbformat": 4,
 "nbformat_minor": 2
}
