{
 "cells": [
  {
   "cell_type": "markdown",
   "metadata": {},
   "source": [
    "# Write all integer sol of x2-2y2-1=0. x and y can take from 1 to 100. find int solution of y."
   ]
  },
  {
   "cell_type": "code",
   "execution_count": null,
   "metadata": {},
   "outputs": [],
   "source": [
    "for x in range(1,101):\n",
    "    for y in range(1,101):\n",
    "        if (x**2-2*y**2-1)==0:\n",
    "            print(x,y)"
   ]
  },
  {
   "cell_type": "markdown",
   "metadata": {},
   "source": [
    "# wap that gives an amount of change for 1 usd and it prints out the denomination that we needed for the change "
   ]
  },
  {
   "cell_type": "code",
   "execution_count": 5,
   "metadata": {},
   "outputs": [
    {
     "name": "stdout",
     "output_type": "stream",
     "text": [
      "Enter less than $10.72\n",
      "2 2 0 2\n"
     ]
    }
   ],
   "source": [
    "def makechange(amount):\n",
    "    cent = int(amount*100)\n",
    "    q = cent//25\n",
    "    cent%=25\n",
    "    d = cent//10\n",
    "    cent%=10\n",
    "    n = cent//5\n",
    "    cent%=5\n",
    "    p = cent\n",
    "    print(q,d,n,p)\n",
    "change=float(input(\"Enter less than $1\"))\n",
    "makechange(change)"
   ]
  },
  {
   "cell_type": "markdown",
   "metadata": {},
   "source": [
    "## Suppose you put one rupee in bank on first day(Monday) then everyday from next day(tuesday to sunday) in put one rupee more than the day before and on every subsequent monday,you will put in 1 rupee more than the previous monday if you have number n then the total amount of money in the bank.find the total amount of money on nth day."
   ]
  },
  {
   "cell_type": "code",
   "execution_count": 13,
   "metadata": {},
   "outputs": [
    {
     "name": "stdout",
     "output_type": "stream",
     "text": [
      "Enter No. of days17\n",
      "75\n"
     ]
    }
   ],
   "source": [
    "days = int(input(\"Enter No. of days\"))\n",
    "Monday = 1\n",
    "Sunday = 7\n",
    "sum = 0\n",
    "weeks = days//7\n",
    "days%= 7\n",
    "for i in range(weeks):\n",
    "    for j in range(Monday,Sunday+1):\n",
    "        sum+=j\n",
    "    Monday+=1\n",
    "    Sunday+=1\n",
    "for i in range(days):\n",
    "    sum+=Monday\n",
    "    Monday+=1\n"
   ]
  },
  {
   "cell_type": "markdown",
   "metadata": {},
   "source": [
    "## Ask user for 10 test scores. Print out the avg of the score. Print out the second largest score. If any score is greater than 100, then after all scores have been entered, print a message warning that the value of over 100 has been entered. Drop the lowest score & print the avg of the rest of them."
   ]
  },
  {
   "cell_type": "code",
   "execution_count": null,
   "metadata": {},
   "outputs": [],
   "source": [
    "for i in range(1,9):\n",
    "    num = int(input(\"Enter score of \",i))\n",
    "    "
   ]
  }
 ],
 "metadata": {
  "kernelspec": {
   "display_name": "Python 3",
   "language": "python",
   "name": "python3"
  },
  "language_info": {
   "codemirror_mode": {
    "name": "ipython",
    "version": 3
   },
   "file_extension": ".py",
   "mimetype": "text/x-python",
   "name": "python",
   "nbconvert_exporter": "python",
   "pygments_lexer": "ipython3",
   "version": "3.8.5"
  }
 },
 "nbformat": 4,
 "nbformat_minor": 4
}
